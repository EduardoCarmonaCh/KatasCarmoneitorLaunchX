{
 "cells": [
  {
   "cell_type": "markdown",
   "metadata": {},
   "source": [
    "## Kata 3\n"
   ]
  },
  {
   "cell_type": "markdown",
   "metadata": {},
   "source": [
    "#### Ejercicio 1. Adverencia por Asteroide(Velocidad)"
   ]
  },
  {
   "cell_type": "code",
   "execution_count": 30,
   "metadata": {},
   "outputs": [
    {
     "name": "stdout",
     "output_type": "stream",
     "text": [
      "Cual es la velocidad del asteroide?\n",
      "La velocidad no representa ningun peligro\n"
     ]
    }
   ],
   "source": [
    "print(\"Cual es la velocidad del asteroide?\")\n",
    "vel= input(\"velocidad del asteroiide\")\n",
    "warn=25.0\n",
    "val=float(vel)\n",
    "if val>warn:\n",
    "    print(\"ADVERTENCIA la velocidad del asteroide representa un peligro\")\n",
    "elif val==warn:\n",
    "    print(\"La velocidad esta en el limite permitido\")\n",
    "else:\n",
    "    print(\"La velocidad no representa ningun peligro\")\n"
   ]
  },
  {
   "cell_type": "markdown",
   "metadata": {},
   "source": [
    "#### Ejercicio 2. Rayo de luz"
   ]
  },
  {
   "cell_type": "code",
   "execution_count": 3,
   "metadata": {},
   "outputs": [
    {
     "name": "stdout",
     "output_type": "stream",
     "text": [
      "Cual es la velocidad del asteroide?\n",
      "Wacha, son extraterrestres\n"
     ]
    }
   ],
   "source": [
    "print(\"Cual es la velocidad del asteroide?\")\n",
    "vel= input(\"velocidad del asteroiide\")\n",
    "light=20.0\n",
    "val=float(vel)\n",
    "if val>light:\n",
    "    print(\"Wacha, son extraterrestres\")\n",
    "elif val==light:\n",
    "    print(\"Wacha, son extraterrestres\")\n",
    "else:\n",
    "    print(\"nada interesante\")"
   ]
  },
  {
   "cell_type": "markdown",
   "metadata": {},
   "source": [
    "#### Ejercicio 3. Advertencia por Asteroide(Velocidad y Tamaño)"
   ]
  },
  {
   "cell_type": "markdown",
   "metadata": {},
   "source": []
  },
  {
   "cell_type": "code",
   "execution_count": 41,
   "metadata": {},
   "outputs": [
    {
     "name": "stdout",
     "output_type": "stream",
     "text": [
      "Cual es la velocidad del asteroide?\n",
      "Cual es el tamaño del fragmento?\n",
      "no hay peligro alguno\n"
     ]
    }
   ],
   "source": [
    "print(\"Cual es la velocidad del asteroide?\")\n",
    "vel= input(\"velocidad del asteroiide\")\n",
    "print(\"Cual es el tamaño del fragmento?\")\n",
    "size= input(\"tamaño del fragmento\")\n",
    "warnsize=25.0\n",
    "warnvel=25.0\n",
    "tamaño=float(size)\n",
    "velocity=float(vel)\n",
    "if velocity>warnvel or tamaño>warnsize:\n",
    "    print(\"ADVERTENCIA\")\n",
    "if velocity>warnvel and tamaño>warnsize:\n",
    "        print(\"La velocidad del asteroide y el tamaño del fragmento son un peligro\")\n",
    "elif velocity<warnvel and tamaño>warnsize:\n",
    "            print(\"La velocidad no es un peligro pero el tamaño del fragmento si\")\n",
    "elif velocity>warnvel and tamaño<warnsize:\n",
    "                print(\"El tamaño del fragmento no es un peligro pero la velocidad del asteoride si\")\n",
    "else:\n",
    "    print(\"No hay peligro alguno\")\n",
    "\n"
   ]
  }
 ],
 "metadata": {
  "interpreter": {
   "hash": "1d7621cf8f6ebc1b1229e36e14e8994a7e691057c500a573c8a5f3347442a5f5"
  },
  "kernelspec": {
   "display_name": "Python 3.10.0 64-bit",
   "language": "python",
   "name": "python3"
  },
  "language_info": {
   "codemirror_mode": {
    "name": "ipython",
    "version": 3
   },
   "file_extension": ".py",
   "mimetype": "text/x-python",
   "name": "python",
   "nbconvert_exporter": "python",
   "pygments_lexer": "ipython3",
   "version": "3.10.0"
  },
  "orig_nbformat": 4
 },
 "nbformat": 4,
 "nbformat_minor": 2
}
